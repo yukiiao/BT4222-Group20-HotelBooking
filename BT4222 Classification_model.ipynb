{
 "cells": [
  {
   "cell_type": "code",
   "execution_count": 37,
   "id": "8bed88cf",
   "metadata": {},
   "outputs": [],
   "source": [
    "#library\n",
    "\n",
    "import pandas as pd\n",
    "import numpy as np\n",
    "import matplotlib.pyplot as plt\n",
    "from sklearn import preprocessing\n",
    "from sklearn.preprocessing import StandardScaler\n",
    "from sklearn.model_selection import train_test_split,GridSearchCV,RandomizedSearchCV\n",
    "from sklearn.metrics import precision_score, recall_score,f1_score, make_scorer,roc_curve, auc, accuracy_score\n",
    "\n",
    "\n",
    "from sklearn.model_selection import train_test_split, cross_val_score \n",
    "from sklearn.datasets import make_moons, make_circles, make_classification\n",
    "from sklearn.linear_model import LogisticRegression\n",
    "from sklearn.ensemble import RandomForestClassifier\n",
    "from xgboost import XGBClassifier\n",
    "from imblearn.combine import SMOTETomek\n",
    "from imblearn.over_sampling import KMeansSMOTE\n",
    "from sklearn.inspection import permutation_importance\n"
   ]
  },
  {
   "cell_type": "code",
   "execution_count": 18,
   "id": "164c4b24",
   "metadata": {},
   "outputs": [
    {
     "data": {
      "text/html": [
       "<div>\n",
       "<style scoped>\n",
       "    .dataframe tbody tr th:only-of-type {\n",
       "        vertical-align: middle;\n",
       "    }\n",
       "\n",
       "    .dataframe tbody tr th {\n",
       "        vertical-align: top;\n",
       "    }\n",
       "\n",
       "    .dataframe thead th {\n",
       "        text-align: right;\n",
       "    }\n",
       "</style>\n",
       "<table border=\"1\" class=\"dataframe\">\n",
       "  <thead>\n",
       "    <tr style=\"text-align: right;\">\n",
       "      <th></th>\n",
       "      <th>is_canceled</th>\n",
       "      <th>lead_time</th>\n",
       "      <th>arrival_date_week_number</th>\n",
       "      <th>meal</th>\n",
       "      <th>market_segment</th>\n",
       "      <th>distribution_channel</th>\n",
       "      <th>is_repeated_guest</th>\n",
       "      <th>previous_cancellations</th>\n",
       "      <th>previous_bookings_not_canceled</th>\n",
       "      <th>reserved_room_type</th>\n",
       "      <th>...</th>\n",
       "      <th>deposit_type</th>\n",
       "      <th>days_in_waiting_list</th>\n",
       "      <th>customer_type</th>\n",
       "      <th>adr</th>\n",
       "      <th>required_car_parking_spaces</th>\n",
       "      <th>total_of_special_requests</th>\n",
       "      <th>total_members</th>\n",
       "      <th>total_stay</th>\n",
       "      <th>continent</th>\n",
       "      <th>assignment</th>\n",
       "    </tr>\n",
       "  </thead>\n",
       "  <tbody>\n",
       "    <tr>\n",
       "      <th>0</th>\n",
       "      <td>0</td>\n",
       "      <td>6</td>\n",
       "      <td>27</td>\n",
       "      <td>HB</td>\n",
       "      <td>Offline TA/TO</td>\n",
       "      <td>TA/TO</td>\n",
       "      <td>0</td>\n",
       "      <td>0</td>\n",
       "      <td>0</td>\n",
       "      <td>A</td>\n",
       "      <td>...</td>\n",
       "      <td>No Deposit</td>\n",
       "      <td>0</td>\n",
       "      <td>Transient</td>\n",
       "      <td>0.00</td>\n",
       "      <td>0</td>\n",
       "      <td>0</td>\n",
       "      <td>1.0</td>\n",
       "      <td>2</td>\n",
       "      <td>Europe</td>\n",
       "      <td>1</td>\n",
       "    </tr>\n",
       "    <tr>\n",
       "      <th>1</th>\n",
       "      <td>1</td>\n",
       "      <td>88</td>\n",
       "      <td>27</td>\n",
       "      <td>BB</td>\n",
       "      <td>Online TA</td>\n",
       "      <td>TA/TO</td>\n",
       "      <td>0</td>\n",
       "      <td>0</td>\n",
       "      <td>0</td>\n",
       "      <td>A</td>\n",
       "      <td>...</td>\n",
       "      <td>No Deposit</td>\n",
       "      <td>0</td>\n",
       "      <td>Transient</td>\n",
       "      <td>76.50</td>\n",
       "      <td>0</td>\n",
       "      <td>1</td>\n",
       "      <td>2.0</td>\n",
       "      <td>4</td>\n",
       "      <td>Europe</td>\n",
       "      <td>1</td>\n",
       "    </tr>\n",
       "    <tr>\n",
       "      <th>2</th>\n",
       "      <td>1</td>\n",
       "      <td>65</td>\n",
       "      <td>27</td>\n",
       "      <td>BB</td>\n",
       "      <td>Online TA</td>\n",
       "      <td>TA/TO</td>\n",
       "      <td>0</td>\n",
       "      <td>0</td>\n",
       "      <td>0</td>\n",
       "      <td>A</td>\n",
       "      <td>...</td>\n",
       "      <td>No Deposit</td>\n",
       "      <td>0</td>\n",
       "      <td>Transient</td>\n",
       "      <td>68.00</td>\n",
       "      <td>0</td>\n",
       "      <td>1</td>\n",
       "      <td>1.0</td>\n",
       "      <td>4</td>\n",
       "      <td>Europe</td>\n",
       "      <td>1</td>\n",
       "    </tr>\n",
       "    <tr>\n",
       "      <th>3</th>\n",
       "      <td>1</td>\n",
       "      <td>92</td>\n",
       "      <td>27</td>\n",
       "      <td>BB</td>\n",
       "      <td>Online TA</td>\n",
       "      <td>TA/TO</td>\n",
       "      <td>0</td>\n",
       "      <td>0</td>\n",
       "      <td>0</td>\n",
       "      <td>A</td>\n",
       "      <td>...</td>\n",
       "      <td>No Deposit</td>\n",
       "      <td>0</td>\n",
       "      <td>Transient</td>\n",
       "      <td>76.50</td>\n",
       "      <td>0</td>\n",
       "      <td>2</td>\n",
       "      <td>2.0</td>\n",
       "      <td>6</td>\n",
       "      <td>Europe</td>\n",
       "      <td>1</td>\n",
       "    </tr>\n",
       "    <tr>\n",
       "      <th>4</th>\n",
       "      <td>1</td>\n",
       "      <td>100</td>\n",
       "      <td>27</td>\n",
       "      <td>BB</td>\n",
       "      <td>Online TA</td>\n",
       "      <td>TA/TO</td>\n",
       "      <td>0</td>\n",
       "      <td>0</td>\n",
       "      <td>0</td>\n",
       "      <td>A</td>\n",
       "      <td>...</td>\n",
       "      <td>No Deposit</td>\n",
       "      <td>0</td>\n",
       "      <td>Transient</td>\n",
       "      <td>76.50</td>\n",
       "      <td>0</td>\n",
       "      <td>1</td>\n",
       "      <td>2.0</td>\n",
       "      <td>2</td>\n",
       "      <td>Europe</td>\n",
       "      <td>1</td>\n",
       "    </tr>\n",
       "    <tr>\n",
       "      <th>...</th>\n",
       "      <td>...</td>\n",
       "      <td>...</td>\n",
       "      <td>...</td>\n",
       "      <td>...</td>\n",
       "      <td>...</td>\n",
       "      <td>...</td>\n",
       "      <td>...</td>\n",
       "      <td>...</td>\n",
       "      <td>...</td>\n",
       "      <td>...</td>\n",
       "      <td>...</td>\n",
       "      <td>...</td>\n",
       "      <td>...</td>\n",
       "      <td>...</td>\n",
       "      <td>...</td>\n",
       "      <td>...</td>\n",
       "      <td>...</td>\n",
       "      <td>...</td>\n",
       "      <td>...</td>\n",
       "      <td>...</td>\n",
       "      <td>...</td>\n",
       "    </tr>\n",
       "    <tr>\n",
       "      <th>53419</th>\n",
       "      <td>0</td>\n",
       "      <td>23</td>\n",
       "      <td>35</td>\n",
       "      <td>BB</td>\n",
       "      <td>Offline TA/TO</td>\n",
       "      <td>TA/TO</td>\n",
       "      <td>0</td>\n",
       "      <td>0</td>\n",
       "      <td>0</td>\n",
       "      <td>A</td>\n",
       "      <td>...</td>\n",
       "      <td>No Deposit</td>\n",
       "      <td>0</td>\n",
       "      <td>Transient</td>\n",
       "      <td>96.14</td>\n",
       "      <td>0</td>\n",
       "      <td>0</td>\n",
       "      <td>2.0</td>\n",
       "      <td>7</td>\n",
       "      <td>Europe</td>\n",
       "      <td>1</td>\n",
       "    </tr>\n",
       "    <tr>\n",
       "      <th>53420</th>\n",
       "      <td>0</td>\n",
       "      <td>102</td>\n",
       "      <td>35</td>\n",
       "      <td>BB</td>\n",
       "      <td>Online TA</td>\n",
       "      <td>TA/TO</td>\n",
       "      <td>0</td>\n",
       "      <td>0</td>\n",
       "      <td>0</td>\n",
       "      <td>E</td>\n",
       "      <td>...</td>\n",
       "      <td>No Deposit</td>\n",
       "      <td>0</td>\n",
       "      <td>Transient</td>\n",
       "      <td>225.43</td>\n",
       "      <td>0</td>\n",
       "      <td>2</td>\n",
       "      <td>3.0</td>\n",
       "      <td>7</td>\n",
       "      <td>Europe</td>\n",
       "      <td>1</td>\n",
       "    </tr>\n",
       "    <tr>\n",
       "      <th>53421</th>\n",
       "      <td>0</td>\n",
       "      <td>34</td>\n",
       "      <td>35</td>\n",
       "      <td>BB</td>\n",
       "      <td>Online TA</td>\n",
       "      <td>TA/TO</td>\n",
       "      <td>0</td>\n",
       "      <td>0</td>\n",
       "      <td>0</td>\n",
       "      <td>D</td>\n",
       "      <td>...</td>\n",
       "      <td>No Deposit</td>\n",
       "      <td>0</td>\n",
       "      <td>Transient</td>\n",
       "      <td>157.71</td>\n",
       "      <td>0</td>\n",
       "      <td>4</td>\n",
       "      <td>2.0</td>\n",
       "      <td>7</td>\n",
       "      <td>Europe</td>\n",
       "      <td>1</td>\n",
       "    </tr>\n",
       "    <tr>\n",
       "      <th>53422</th>\n",
       "      <td>0</td>\n",
       "      <td>109</td>\n",
       "      <td>35</td>\n",
       "      <td>BB</td>\n",
       "      <td>Online TA</td>\n",
       "      <td>TA/TO</td>\n",
       "      <td>0</td>\n",
       "      <td>0</td>\n",
       "      <td>0</td>\n",
       "      <td>A</td>\n",
       "      <td>...</td>\n",
       "      <td>No Deposit</td>\n",
       "      <td>0</td>\n",
       "      <td>Transient</td>\n",
       "      <td>104.40</td>\n",
       "      <td>0</td>\n",
       "      <td>0</td>\n",
       "      <td>2.0</td>\n",
       "      <td>7</td>\n",
       "      <td>Europe</td>\n",
       "      <td>1</td>\n",
       "    </tr>\n",
       "    <tr>\n",
       "      <th>53423</th>\n",
       "      <td>0</td>\n",
       "      <td>205</td>\n",
       "      <td>35</td>\n",
       "      <td>HB</td>\n",
       "      <td>Online TA</td>\n",
       "      <td>TA/TO</td>\n",
       "      <td>0</td>\n",
       "      <td>0</td>\n",
       "      <td>0</td>\n",
       "      <td>A</td>\n",
       "      <td>...</td>\n",
       "      <td>No Deposit</td>\n",
       "      <td>0</td>\n",
       "      <td>Transient</td>\n",
       "      <td>151.20</td>\n",
       "      <td>0</td>\n",
       "      <td>2</td>\n",
       "      <td>2.0</td>\n",
       "      <td>9</td>\n",
       "      <td>Europe</td>\n",
       "      <td>1</td>\n",
       "    </tr>\n",
       "  </tbody>\n",
       "</table>\n",
       "<p>53424 rows × 22 columns</p>\n",
       "</div>"
      ],
      "text/plain": [
       "       is_canceled  lead_time  arrival_date_week_number meal market_segment  \\\n",
       "0                0          6                        27   HB  Offline TA/TO   \n",
       "1                1         88                        27   BB      Online TA   \n",
       "2                1         65                        27   BB      Online TA   \n",
       "3                1         92                        27   BB      Online TA   \n",
       "4                1        100                        27   BB      Online TA   \n",
       "...            ...        ...                       ...  ...            ...   \n",
       "53419            0         23                        35   BB  Offline TA/TO   \n",
       "53420            0        102                        35   BB      Online TA   \n",
       "53421            0         34                        35   BB      Online TA   \n",
       "53422            0        109                        35   BB      Online TA   \n",
       "53423            0        205                        35   HB      Online TA   \n",
       "\n",
       "      distribution_channel  is_repeated_guest  previous_cancellations  \\\n",
       "0                    TA/TO                  0                       0   \n",
       "1                    TA/TO                  0                       0   \n",
       "2                    TA/TO                  0                       0   \n",
       "3                    TA/TO                  0                       0   \n",
       "4                    TA/TO                  0                       0   \n",
       "...                    ...                ...                     ...   \n",
       "53419                TA/TO                  0                       0   \n",
       "53420                TA/TO                  0                       0   \n",
       "53421                TA/TO                  0                       0   \n",
       "53422                TA/TO                  0                       0   \n",
       "53423                TA/TO                  0                       0   \n",
       "\n",
       "       previous_bookings_not_canceled reserved_room_type  ... deposit_type  \\\n",
       "0                                   0                  A  ...   No Deposit   \n",
       "1                                   0                  A  ...   No Deposit   \n",
       "2                                   0                  A  ...   No Deposit   \n",
       "3                                   0                  A  ...   No Deposit   \n",
       "4                                   0                  A  ...   No Deposit   \n",
       "...                               ...                ...  ...          ...   \n",
       "53419                               0                  A  ...   No Deposit   \n",
       "53420                               0                  E  ...   No Deposit   \n",
       "53421                               0                  D  ...   No Deposit   \n",
       "53422                               0                  A  ...   No Deposit   \n",
       "53423                               0                  A  ...   No Deposit   \n",
       "\n",
       "       days_in_waiting_list customer_type     adr required_car_parking_spaces  \\\n",
       "0                         0     Transient    0.00                           0   \n",
       "1                         0     Transient   76.50                           0   \n",
       "2                         0     Transient   68.00                           0   \n",
       "3                         0     Transient   76.50                           0   \n",
       "4                         0     Transient   76.50                           0   \n",
       "...                     ...           ...     ...                         ...   \n",
       "53419                     0     Transient   96.14                           0   \n",
       "53420                     0     Transient  225.43                           0   \n",
       "53421                     0     Transient  157.71                           0   \n",
       "53422                     0     Transient  104.40                           0   \n",
       "53423                     0     Transient  151.20                           0   \n",
       "\n",
       "       total_of_special_requests  total_members  total_stay  continent  \\\n",
       "0                              0            1.0           2     Europe   \n",
       "1                              1            2.0           4     Europe   \n",
       "2                              1            1.0           4     Europe   \n",
       "3                              2            2.0           6     Europe   \n",
       "4                              1            2.0           2     Europe   \n",
       "...                          ...            ...         ...        ...   \n",
       "53419                          0            2.0           7     Europe   \n",
       "53420                          2            3.0           7     Europe   \n",
       "53421                          4            2.0           7     Europe   \n",
       "53422                          0            2.0           7     Europe   \n",
       "53423                          2            2.0           9     Europe   \n",
       "\n",
       "       assignment  \n",
       "0               1  \n",
       "1               1  \n",
       "2               1  \n",
       "3               1  \n",
       "4               1  \n",
       "...           ...  \n",
       "53419           1  \n",
       "53420           1  \n",
       "53421           1  \n",
       "53422           1  \n",
       "53423           1  \n",
       "\n",
       "[53424 rows x 22 columns]"
      ]
     },
     "execution_count": 18,
     "metadata": {},
     "output_type": "execute_result"
    }
   ],
   "source": [
    "df = pd.read_csv('hotel_bookings_processed.csv')\n",
    "df"
   ]
  },
  {
   "cell_type": "code",
   "execution_count": 19,
   "id": "ea127530",
   "metadata": {},
   "outputs": [
    {
     "data": {
      "text/plain": [
       "Index(['is_canceled', 'lead_time', 'arrival_date_week_number', 'meal',\n",
       "       'market_segment', 'distribution_channel', 'is_repeated_guest',\n",
       "       'previous_cancellations', 'previous_bookings_not_canceled',\n",
       "       'reserved_room_type', 'assigned_room_type', 'booking_changes',\n",
       "       'deposit_type', 'days_in_waiting_list', 'customer_type', 'adr',\n",
       "       'required_car_parking_spaces', 'total_of_special_requests',\n",
       "       'total_members', 'total_stay', 'continent', 'assignment'],\n",
       "      dtype='object')"
      ]
     },
     "execution_count": 19,
     "metadata": {},
     "output_type": "execute_result"
    }
   ],
   "source": [
    "df.columns"
   ]
  },
  {
   "cell_type": "markdown",
   "id": "ff6ea0af",
   "metadata": {},
   "source": [
    "## Scaling & Label Encoding"
   ]
  },
  {
   "cell_type": "code",
   "execution_count": 20,
   "id": "1e904e1b",
   "metadata": {},
   "outputs": [],
   "source": [
    "#Drop DV, train test split\n",
    "X = df.drop(columns='is_canceled')\n",
    "y = df['is_canceled']\n",
    "\n",
    "X_train, X_test, y_train, y_test = train_test_split(X, y, test_size=0.2, random_state=1)"
   ]
  },
  {
   "cell_type": "code",
   "execution_count": 21,
   "id": "bbdcfad4",
   "metadata": {},
   "outputs": [],
   "source": [
    "#Encode categorial columns - 11 columns \n",
    "label_encoder = preprocessing.LabelEncoder()\n",
    "cols = ['meal','continent','market_segment','distribution_channel','is_repeated_guest',\n",
    "        'reserved_room_type','assigned_room_type','deposit_type','customer_type','assignment','arrival_date_week_number']\n",
    "\n",
    "X_train[cols] = X_train[cols].apply(label_encoder.fit_transform)#astype('category')\n",
    "X_test[cols] = X_test[cols].apply(label_encoder.fit_transform)#astype('category')\n",
    "#use label encoder - less dimension"
   ]
  },
  {
   "cell_type": "code",
   "execution_count": 22,
   "id": "5e79f7a3",
   "metadata": {},
   "outputs": [],
   "source": [
    "#scale continuous columns - 10 columns\n",
    "ss = StandardScaler()\n",
    "\n",
    "columns_to_scale = ['previous_cancellations','previous_bookings_not_canceled','lead_time',\n",
    "                    'days_in_waiting_list','adr','required_car_parking_spaces','total_of_special_requests',\n",
    "                    'total_members','total_stay','booking_changes']\n",
    "\n",
    "\n",
    "# fit the scaler on the selected columns\n",
    "ss.fit(X_train[columns_to_scale])\n",
    "\n",
    "# transform the selected columns using the scaler\n",
    "X_train[columns_to_scale] = ss.transform(X_train[columns_to_scale])\n",
    "X_test[columns_to_scale] = ss.transform(X_test[columns_to_scale])\n"
   ]
  },
  {
   "cell_type": "code",
   "execution_count": 21,
   "id": "22726ce9",
   "metadata": {},
   "outputs": [],
   "source": [
    "#balance the dataset\n",
    "#from sklearn.impute import SimpleImputer\n",
    "\n",
    "#imputer = SimpleImputer(strategy='most_frequent')\n",
    "#X_imputed = imputer.fit_transform(X_train)\n",
    "\n",
    "#temp_X_train = pd.DataFrame(X_imputed, columns=X_train.columns)\n",
    "\n",
    "\n",
    "#smote_tomek = SMOTETomek(random_state=901)\n",
    "\n",
    "#X_train_resampled, y_train_resampled = smote_tomek.fit_resample(temp_X_train,y_train)\n"
   ]
  },
  {
   "cell_type": "code",
   "execution_count": 23,
   "id": "e0989fd2",
   "metadata": {},
   "outputs": [],
   "source": [
    "#balance the dataset\n",
    "smote_tomek = SMOTETomek(random_state=901)\n",
    "X_train_resampled, y_train_resampled = smote_tomek.fit_resample(X_train,y_train)"
   ]
  },
  {
   "cell_type": "markdown",
   "id": "358605ee",
   "metadata": {},
   "source": [
    "### Logistic Regression"
   ]
  },
  {
   "cell_type": "code",
   "execution_count": 24,
   "id": "5c62fb52",
   "metadata": {},
   "outputs": [
    {
     "name": "stdout",
     "output_type": "stream",
     "text": [
      "{'C': 1.8684853292731924, 'max_iter': 1500, 'penalty': 'l2', 'random_state': 109}\n"
     ]
    }
   ],
   "source": [
    "from sklearn.linear_model import LogisticRegression\n",
    "from sklearn import metrics\n",
    "from sklearn.model_selection import RandomizedSearchCV\n",
    "from scipy.stats import uniform\n",
    "from sklearn.metrics import roc_curve, auc\n",
    "\n",
    "params_lr = {\n",
    "    'C': uniform(loc=0, scale=5),\n",
    "    'penalty': ['l2'],\n",
    "    'max_iter': [1500],\n",
    "    'random_state':[109]\n",
    "}\n",
    "\n",
    "randomCV = RandomizedSearchCV(LogisticRegression(), param_distributions=params_lr, scoring='recall',n_iter=30)\n",
    "randomCV.fit(X_train_resampled, y_train_resampled)\n",
    "print(randomCV.best_params_)"
   ]
  },
  {
   "cell_type": "code",
   "execution_count": 25,
   "id": "3d7d4fb4",
   "metadata": {},
   "outputs": [
    {
     "name": "stdout",
     "output_type": "stream",
     "text": [
      "best LR f1_score: 0.590982087708462\n"
     ]
    }
   ],
   "source": [
    "LR_best=LogisticRegression(C=1.8684853292731924,penalty='l2',max_iter=1500, random_state=109)\n",
    "LR_best.fit(X_train_resampled,y_train_resampled)\n",
    "y_pred_LR_best=LR_best.predict(X_test)\n",
    "\n",
    "\n",
    "f1_score_LR_best = f1_score(y_test, y_pred_LR_best)\n",
    "accuracy_LR_best = accuracy_score(y_test, y_pred_LR_best)\n",
    "precision_LR_best = precision_score(y_test, y_pred_LR_best)\n",
    "recall_LR_best = recall_score(y_test, y_pred_LR_best)\n",
    "\n",
    "print('best LR f1_score:', f1_score_LR_best)"
   ]
  },
  {
   "cell_type": "markdown",
   "id": "6aa4c7fe",
   "metadata": {},
   "source": [
    "### Random Forest"
   ]
  },
  {
   "cell_type": "code",
   "execution_count": 26,
   "id": "a8a56a6c",
   "metadata": {},
   "outputs": [
    {
     "name": "stdout",
     "output_type": "stream",
     "text": [
      "{'max_features': 'sqrt', 'min_samples_split': 2, 'n_estimators': 131, 'random_state': 109}\n"
     ]
    }
   ],
   "source": [
    "from sklearn.ensemble import RandomForestClassifier\n",
    "from scipy.stats import randint\n",
    "\n",
    "params_rf = {\n",
    "    'n_estimators': randint(75, 200),\n",
    "    'max_features': [\"sqrt\", \"log2\"],\n",
    "    'random_state':[109],\n",
    "    'min_samples_split': randint(2, 10)\n",
    "}\n",
    "\n",
    "randomisedForest = RandomizedSearchCV(RandomForestClassifier(), param_distributions=params_rf, scoring='recall',n_iter=30)\n",
    "randomisedForest.fit(X_train_resampled, y_train_resampled)\n",
    "print(randomisedForest.best_params_)"
   ]
  },
  {
   "cell_type": "code",
   "execution_count": 27,
   "id": "78027dd9",
   "metadata": {},
   "outputs": [
    {
     "name": "stdout",
     "output_type": "stream",
     "text": [
      "best RF f1_score: 0.656564045302281\n"
     ]
    }
   ],
   "source": [
    "rf = RandomForestClassifier(min_samples_split=2,n_estimators=131, max_features='sqrt', random_state=109) \n",
    "rf.fit(X_train_resampled, y_train_resampled)\n",
    "y_pred_rf = rf.predict(X_test)\n",
    "\n",
    "\n",
    "f1_score_RF_best = f1_score(y_test, y_pred_rf)\n",
    "accuracy_RF_best = accuracy_score(y_test, y_pred_rf)\n",
    "precision_RF_best = precision_score(y_test, y_pred_rf)\n",
    "recall_RF_best = recall_score(y_test, y_pred_rf)\n",
    "print('best RF f1_score:', f1_score_RF_best)"
   ]
  },
  {
   "cell_type": "markdown",
   "id": "48cd7b22",
   "metadata": {},
   "source": [
    "### XGradient Boost"
   ]
  },
  {
   "cell_type": "code",
   "execution_count": 28,
   "id": "9d190e70",
   "metadata": {},
   "outputs": [
    {
     "name": "stdout",
     "output_type": "stream",
     "text": [
      "{'learning_rate': 0.10260546707053247, 'random_state': 109, 'tree_method': 'approx'}\n"
     ]
    }
   ],
   "source": [
    "params_xgb = {\n",
    "    'learning_rate': uniform(0.01, 0.1),\n",
    "    'random_state':[109],\n",
    "    'tree_method':['approx','hist','gpu_hist']\n",
    "}\n",
    "\n",
    "\n",
    "xgb_par = RandomizedSearchCV(XGBClassifier(), params_xgb, cv=5, verbose=0, scoring='recall',n_iter=30)\n",
    "xgb_par.fit(X_train_resampled, y_train_resampled)\n",
    "print(xgb_par.best_params_)"
   ]
  },
  {
   "cell_type": "code",
   "execution_count": 29,
   "id": "f0258d1c",
   "metadata": {},
   "outputs": [
    {
     "name": "stdout",
     "output_type": "stream",
     "text": [
      "best XGB f1_score: 0.6517038007863697\n"
     ]
    }
   ],
   "source": [
    "from xgboost import XGBClassifier\n",
    "\n",
    "xgb = XGBClassifier(\n",
    "    tree_method='approx', \n",
    "    random_state=109, \n",
    "    learning_rate=0.10260546707053247, \n",
    "    n_estimators=250, \n",
    "    max_depth=5, \n",
    "    enable_categorical=True\n",
    ")\n",
    "\n",
    "\n",
    "xgb.fit(X_train_resampled, y_train_resampled)\n",
    "y_pred_xgb = xgb.predict(X_test)\n",
    "\n",
    "f1_score_XGB_best = f1_score(y_test, y_pred_xgb)\n",
    "accuracy_XGB_best = accuracy_score(y_test, y_pred_xgb)\n",
    "precision_XGB_best = precision_score(y_test, y_pred_xgb)\n",
    "recall_XGB_best = recall_score(y_test, y_pred_xgb)\n",
    "print('best XGB f1_score:', f1_score_XGB_best)"
   ]
  },
  {
   "cell_type": "code",
   "execution_count": 30,
   "id": "abb02b64",
   "metadata": {},
   "outputs": [],
   "source": [
    "model1 = {'name':'Logistic Regression','f1_score': f1_score_LR_best, 'accuracy': accuracy_LR_best, 'precision':precision_LR_best, 'recall':recall_LR_best}\n",
    "model2 = {'name':'Random Forest','f1_score': f1_score_RF_best, 'accuracy': accuracy_RF_best, 'precision':precision_RF_best, 'recall':recall_RF_best}\n",
    "model3 = {'name':'XGradient Boost','f1_score': f1_score_XGB_best, 'accuracy': accuracy_XGB_best, 'precision':precision_XGB_best, 'recall':recall_XGB_best}"
   ]
  },
  {
   "cell_type": "code",
   "execution_count": 31,
   "id": "fde6466c",
   "metadata": {},
   "outputs": [
    {
     "data": {
      "text/html": [
       "<div>\n",
       "<style scoped>\n",
       "    .dataframe tbody tr th:only-of-type {\n",
       "        vertical-align: middle;\n",
       "    }\n",
       "\n",
       "    .dataframe tbody tr th {\n",
       "        vertical-align: top;\n",
       "    }\n",
       "\n",
       "    .dataframe thead th {\n",
       "        text-align: right;\n",
       "    }\n",
       "</style>\n",
       "<table border=\"1\" class=\"dataframe\">\n",
       "  <thead>\n",
       "    <tr style=\"text-align: right;\">\n",
       "      <th></th>\n",
       "      <th>name</th>\n",
       "      <th>f1_score</th>\n",
       "      <th>accuracy</th>\n",
       "      <th>precision</th>\n",
       "      <th>recall</th>\n",
       "    </tr>\n",
       "  </thead>\n",
       "  <tbody>\n",
       "    <tr>\n",
       "      <th>0</th>\n",
       "      <td>Logistic Regression</td>\n",
       "      <td>0.590982</td>\n",
       "      <td>0.690126</td>\n",
       "      <td>0.492789</td>\n",
       "      <td>0.738044</td>\n",
       "    </tr>\n",
       "    <tr>\n",
       "      <th>1</th>\n",
       "      <td>Random Forest</td>\n",
       "      <td>0.656564</td>\n",
       "      <td>0.798503</td>\n",
       "      <td>0.679657</td>\n",
       "      <td>0.634989</td>\n",
       "    </tr>\n",
       "    <tr>\n",
       "      <th>2</th>\n",
       "      <td>XGradient Boost</td>\n",
       "      <td>0.651704</td>\n",
       "      <td>0.801029</td>\n",
       "      <td>0.694726</td>\n",
       "      <td>0.613699</td>\n",
       "    </tr>\n",
       "  </tbody>\n",
       "</table>\n",
       "</div>"
      ],
      "text/plain": [
       "                  name  f1_score  accuracy  precision    recall\n",
       "0  Logistic Regression  0.590982  0.690126   0.492789  0.738044\n",
       "1        Random Forest  0.656564  0.798503   0.679657  0.634989\n",
       "2      XGradient Boost  0.651704  0.801029   0.694726  0.613699"
      ]
     },
     "execution_count": 31,
     "metadata": {},
     "output_type": "execute_result"
    }
   ],
   "source": [
    "model_data_list = [model1, model2, model3]\n",
    "summary = pd.DataFrame(model_data_list, columns=['name','f1_score', 'accuracy', 'precision', 'recall'])\n",
    "summary"
   ]
  },
  {
   "attachments": {},
   "cell_type": "markdown",
   "id": "70438400",
   "metadata": {},
   "source": [
    "### Final Classification Model"
   ]
  },
  {
   "cell_type": "code",
   "execution_count": 32,
   "id": "1f2b9390",
   "metadata": {},
   "outputs": [],
   "source": [
    "selected_model = LR_best\n",
    "y_pred_selected = y_pred_LR_best"
   ]
  },
  {
   "cell_type": "code",
   "execution_count": 35,
   "id": "e8e770ad",
   "metadata": {},
   "outputs": [
    {
     "data": {
      "text/plain": [
       "array([[4982, 2462],\n",
       "       [ 849, 2392]], dtype=int64)"
      ]
     },
     "execution_count": 35,
     "metadata": {},
     "output_type": "execute_result"
    }
   ],
   "source": [
    "from sklearn.metrics import confusion_matrix, ConfusionMatrixDisplay\n",
    "confusion_matrix=confusion_matrix(y_test,y_pred_selected)\n",
    "confusion_matrix"
   ]
  },
  {
   "cell_type": "code",
   "execution_count": 38,
   "id": "a1754a5f",
   "metadata": {},
   "outputs": [
    {
     "data": {
      "image/png": "[encoded data removed]",
      "text/plain": [
       "<Figure size 640x480 with 2 Axes>"
      ]
     },
     "metadata": {},
     "output_type": "display_data"
    }
   ],
   "source": [
    "disp = ConfusionMatrixDisplay(confusion_matrix=confusion_matrix)\n",
    "disp.plot()\n",
    "plt.show()"
   ]
  },
  {
   "cell_type": "code",
   "execution_count": 39,
   "id": "b1b1a837",
   "metadata": {},
   "outputs": [
    {
     "name": "stdout",
     "output_type": "stream",
     "text": [
      "Estimated loss in revenue from a vacant room due to cancellation: $350.0\n"
     ]
    }
   ],
   "source": [
    "adr_ave = df['adr'].mean()\n",
    "nights_ave = df['total_stay'].mean()\n",
    "rev_ave = adr_ave * nights_ave\n",
    "print('Estimated loss in revenue from a vacant room due to cancellation: ${0}'.format(round(rev_ave,-1)))"
   ]
  },
  {
   "cell_type": "code",
   "execution_count": 41,
   "id": "80d464ae",
   "metadata": {},
   "outputs": [
    {
     "data": {
      "text/plain": [
       "[(0, 1302700),\n",
       " (10, 1116325),\n",
       " (20, 1008700),\n",
       " (30, 917350),\n",
       " (40, 809725),\n",
       " (50, 728000),\n",
       " (60, 690550),\n",
       " (70, 781200),\n",
       " (80, 953225),\n",
       " (90, 1061725),\n",
       " (100, 1134350)]"
      ]
     },
     "execution_count": 41,
     "metadata": {},
     "output_type": "execute_result"
    }
   ],
   "source": [
    "from sklearn.metrics import confusion_matrix, ConfusionMatrixDisplay\n",
    "#helper function that takes in a value structure and confusion matrix to find its value\n",
    "def value_calculation(value_structure,cm):\n",
    "    True_Negative=cm[0][0]*value_structure[0]\n",
    "    False_Positive=cm[0][1]*value_structure[1]\n",
    "    False_Negative=cm[1][0]*value_structure[2]\n",
    "    True_Positive=cm[1][1]*value_structure[3]\n",
    "    value=True_Negative+False_Positive+False_Negative+True_Positive\n",
    "    return value\n",
    "\n",
    "value_structure=[0,175,350,0]\n",
    "value=[]\n",
    "for i in range(0,101,10):\n",
    "    threshold=i/100\n",
    "    predict= (selected_model.predict_proba(X_test)[:, 1] > threshold).astype('float')\n",
    "    c_matrix=confusion_matrix(y_test,predict)\n",
    "    value.append(value_calculation(value_structure,c_matrix))\n",
    "\n",
    "list(zip(range(0,101,10),value))"
   ]
  },
  {
   "cell_type": "code",
   "execution_count": 42,
   "id": "f4b43ac0",
   "metadata": {},
   "outputs": [],
   "source": [
    "def value_plot(value_structure):\n",
    "    value=[]\n",
    "    for i in range(0,101,1):\n",
    "        threshold=i/100\n",
    "        predict= (selected_model.predict_proba(X_test)[:, 1] > threshold).astype('float')\n",
    "        c_matrix=confusion_matrix(y_test,predict)\n",
    "        value.append(value_calculation(value_structure,c_matrix))\n",
    "    plt.figure(figsize=(15,8))\n",
    "    plt.xlabel(\"Threshold\")\n",
    "    plt.ylabel(\"Total Estimated Loss\")\n",
    "    x_axis = range(0,101,1)\n",
    "    y_axis = value\n",
    "    return (plt.plot(x_axis,y_axis))"
   ]
  },
  {
   "cell_type": "code",
   "execution_count": 43,
   "id": "b6acedda",
   "metadata": {},
   "outputs": [
    {
     "data": {
      "text/plain": [
       "[<matplotlib.lines.Line2D at 0x2921e8ce990>]"
      ]
     },
     "execution_count": 43,
     "metadata": {},
     "output_type": "execute_result"
    },
    {
     "data": {
      "image/png": "[encoded data removed]",
      "text/plain": [
       "<Figure size 1500x800 with 1 Axes>"
      ]
     },
     "metadata": {},
     "output_type": "display_data"
    }
   ],
   "source": [
    "value_plot([0,175,350,0])"
   ]
  },
  {
   "cell_type": "code",
   "execution_count": 44,
   "id": "9c19906f",
   "metadata": {},
   "outputs": [
    {
     "data": {
      "text/plain": [
       "[<matplotlib.lines.Line2D at 0x2921e76c750>]"
      ]
     },
     "execution_count": 44,
     "metadata": {},
     "output_type": "execute_result"
    },
    {
     "data": {
      "image/png": "[encoded data removed]",
      "text/plain": [
       "<Figure size 1500x800 with 1 Axes>"
      ]
     },
     "metadata": {},
     "output_type": "display_data"
    }
   ],
   "source": [
    "value_plot([0,350,350,0])"
   ]
  }
 ],
 "metadata": {
  "kernelspec": {
   "display_name": "Python 3",
   "language": "python",
   "name": "python3"
  },
  "language_info": {
   "codemirror_mode": {
    "name": "ipython",
    "version": 3
   },
   "file_extension": ".py",
   "mimetype": "text/x-python",
   "name": "python",
   "nbconvert_exporter": "python",
   "pygments_lexer": "ipython3",
   "version": "3.11.0"
  }
 },
 "nbformat": 4,
 "nbformat_minor": 5
}
